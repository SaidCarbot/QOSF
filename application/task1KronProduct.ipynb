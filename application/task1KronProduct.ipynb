{
 "cells": [
  {
   "cell_type": "markdown",
   "metadata": {},
   "source": [
    "<h2 style=\"color:black\"> \n",
    "QOSF Mentorship Program 2024\n",
    "</h2>\n",
    "\n",
    "<h4 style=\"color:black\"> \n",
    "Cohort 10 - Screening Tasks\n",
    "</h4>\n",
    "\n",
    "##### <span style=\"color: ROYALBLUE;\"> By: Said Carbot Cruz Trejo-ESCOM-IPN-MEX\n",
    "______________________\n",
    "<h6 style=\"color:black\"> \n",
    "Late October, early November,2024 \n",
    "</h6>"
   ]
  },
  {
   "cell_type": "markdown",
   "metadata": {},
   "source": [
    "<h5 style=\"color:dodgerblue\"> \n",
    "Task 1 Statevector simulation of quantum circuits  \n",
    "</h5>"
   ]
  },
  {
   "cell_type": "markdown",
   "metadata": {},
   "source": [
    "<h5 style=\"color:green\"> \n",
    "- Identify\n",
    "</h5>\n",
    "<h7 style=\"color:black\"> \n",
    "<li>Objetive: implement a statevector simulator for quantum circuits from\n",
    "scratch.</li>\n",
    "<br>\n",
    "<li>There are 3 points:</li>\n",
    "A) Naive simulation using matrix multiplication\n",
    "<br>\n",
    "B) Advanced simulation using tensor multiplication\n",
    "<br>\n",
    "C) Bonus question\n",
    "<br><br>\n",
    "I have to do all of them.  \n",
    "\n",
    "Hice dos implementaciones, en la primera comencé creando el estado de vector comenzando con el cálculo del producto \"kor\" al ket cero n-1 veces como qubits ingresara el usuario para crear,v.g.: si el usuario ingresaba que quería crear 3 qubits,entonces aplicaba |0⟩ ⊗ I ⊗ I.  \n",
    "A continuación intenté usar las compuertas X,H y CNOT haciendo el producto de cada compuerta con el estado del vector inicial, pero noté que por propiedades de las matrices los productos deberian ser de la forma (n X m)(m X L), y como la matriz del estado del vector tenia la forma (2^q X 1), donde \"q\" es el número de qubits que ingresó el usuario para crear, entonces no podría hacer la multiplicación de matrices de forma directa, tenía que modificar las compuertas haciendo la misma cantida de  productso \"kor\" que al inciio hice al estado de vector. v.g. X ⊗ I ⊗ I.  \n",
    "\n",
    "Ya con las compuertas X para darle la ddimención (2^q X 2^q). V.g. para 3 qubits quedaria (8 X 8), que ya coincide con la matriz del estado vector (8 X 1), asi que ya podía hacer (8 X 8)(8 X 1)= (8 X 1).\n",
    "Sin embargo \n",
    ",pero finalmente no encontré una forma de llenar de ceros la matriz en las secciones que lo necesitara. \n",
    "\n",
    "Segundo, la otra implementación que hice fue aplicando primero las transformaciones lineales a cada qubit, y despues apliqué el producto \"kor\" a los estados finales de cada qubit. \n",
    "</h7>\n"
   ]
  },
  {
   "cell_type": "markdown",
   "metadata": {},
   "source": [
    "<h5 style=\"color:green\"> \n",
    "- Set Up\n",
    "</h5>\n",
    "<h7 style=\"color:black\"> \n",
    "1. Define ∣0⟩,∣1⟩, and base X, H, CNOT, I and proyectors.<br>\n",
    "2. Create the base n-qubit quantum state  <br>\n",
    "3. To apply X gate on a \"k\" qubit<br>\n",
    "4. To apply H gate to a \"k\" qubit<br>\n",
    "5. To apply CNOT gate to k and m qubits<br>\n",
    "<br>\n",
    "<br>\n",
    "</h7>"
   ]
  },
  {
   "cell_type": "markdown",
   "metadata": {},
   "source": [
    "<h5 style=\"color:green\"> \n",
    "- Execute\n",
    "</h5>"
   ]
  },
  {
   "cell_type": "markdown",
   "metadata": {},
   "source": [
    "1. Define ∣0⟩,∣1⟩, and base X, H, CNOT, I and proyectors."
   ]
  },
  {
   "cell_type": "code",
   "execution_count": 5,
   "metadata": {},
   "outputs": [],
   "source": [
    "from math import sqrt\n",
    "import numpy as np\n",
    "\n",
    "ket0 = np.array([1, 0])\n",
    "\n",
    "ket1 = np.array([0, 1])\n",
    "\n",
    "I = np.eye(2)\n",
    "\n",
    "X = np.array([[0, 1], \n",
    "              [1, 0]])\n",
    "\n",
    "h = 1/sqrt(2)\n",
    "H = h*np.array([[1, 1], \n",
    "                [1, -1]])\n",
    "\n",
    "CNOT = np.array([[1, 0, 0, 0], \n",
    "                 [0, 1, 0, 0],\n",
    "                 [0, 0, 0, 1],\n",
    "                 [0, 0, 1, 0]])\n",
    "\n",
    "# Proyectors\n",
    "p_0 = np.array([[1, 0], \n",
    "                [0, 0]])\n",
    "\n",
    "p_1 = np.array([[0, 0], \n",
    "                [0, 1]])"
   ]
  },
  {
   "cell_type": "markdown",
   "metadata": {},
   "source": [
    "2. Create the base n-qubit quantum state  "
   ]
  },
  {
   "cell_type": "code",
   "execution_count": null,
   "metadata": {},
   "outputs": [
    {
     "name": "stdout",
     "output_type": "stream",
     "text": [
      "You entered 3.\n"
     ]
    }
   ],
   "source": [
    "#Ask the user to enter a integer to cretae the n-qubit quantum state\n",
    "while True:\n",
    "    try:\n",
    "        n = int(input(\"Please, enter an integer between 1 and 40 for the number of qubit to be creates: \"))\n",
    "        max = 40\n",
    "        # Check if the number is within the allowed range\n",
    "        if 0 <= n <= max:\n",
    "            print(f\"You entered {n}.\")\n",
    "            break \n",
    "        else:\n",
    "            print(\"Error: The number is out of the allowed range (1-20). Please try again.\")\n",
    "    \n",
    "    except ValueError:\n",
    "        print(\"Invalid input! Please enter an integer between 1 and 20.\")\n",
    "\n",
    "# Shape column vector\n",
    "def convert_to_a_vector_column(state_vector):\n",
    "    return state_vector.reshape(-1, 1)\n",
    "\n",
    "#Show the vector\n",
    "def printQbits(circuito):\n",
    "    print(circuito)\n"
   ]
  },
  {
   "cell_type": "code",
   "execution_count": 7,
   "metadata": {},
   "outputs": [
    {
     "name": "stdout",
     "output_type": "stream",
     "text": [
      "The 3-qubit quantum state is: \n",
      "[[1]\n",
      " [0]\n",
      " [0]\n",
      " [0]\n",
      " [0]\n",
      " [0]\n",
      " [0]\n",
      " [0]]\n"
     ]
    }
   ],
   "source": [
    "#Create and show the base n-qubit quantum state\n",
    "def initialize_qubits(n):\n",
    "    # Start with single qubit state |0>\n",
    "    qubit_state = ket0\n",
    "    # Multiply by |0> for each additional qubit\n",
    "    for _ in range(n - 1):\n",
    "        qubit_state = np.kron(qubit_state, ket0)\n",
    "    return qubit_state\n",
    "\n",
    "print(f\"The {n}-qubit quantum state is: \")\n",
    "vectorState = np.array(initialize_qubits(n))\n",
    "Probability = convert_to_a_vector_column(vectorState)\n",
    "print(Probability)"
   ]
  },
  {
   "cell_type": "markdown",
   "metadata": {},
   "source": [
    "3. To apply X gate on a k qubit"
   ]
  },
  {
   "cell_type": "code",
   "execution_count": 8,
   "metadata": {},
   "outputs": [
    {
     "name": "stdout",
     "output_type": "stream",
     "text": [
      "State after apply X gate on qubit 0:\n",
      "[[0.]\n",
      " [1.]\n",
      " [0.]\n",
      " [0.]\n",
      " [0.]\n",
      " [0.]\n",
      " [0.]\n",
      " [0.]]\n"
     ]
    }
   ],
   "source": [
    "def aplicar_x_a_qubit(n, target_qubit, initial_state):\n",
    "    # Build the operator with X at the `target_qubit` position and I at the others\n",
    "    # Reverse the list so that the qubits match the desired order\n",
    "    matrices = [X if i == target_qubit else I for i in range(n-1, -1, -1)]\n",
    "\n",
    "    # Calculate kron product\n",
    "    operador_final = matrices[0]\n",
    "    for matriz in matrices[1:]:\n",
    "        operador_final = np.kron(operador_final, matriz)\n",
    "    \n",
    "    # Apply the operator to the initial state\n",
    "    final_state = operador_final @ initial_state\n",
    "    return final_state\n",
    "\n",
    "q_X = int(input(\"You have {} qubits, numbered 0 to {}. Please enter the number of the qubit you want to apply the X gate to.\".format(n,n-1)))\n",
    "vectorStateX = np.array(aplicar_x_a_qubit(n, q_X, vectorState))\n",
    "print(f\"State after apply X gate on qubit {q_X}:\")\n",
    "# Column vector shape\n",
    "Probability = vectorStateX\n",
    "Probability = Probability.reshape(-1, 1)\n",
    "print(Probability)\n"
   ]
  },
  {
   "cell_type": "markdown",
   "metadata": {},
   "source": [
    "4. To apply H gate to a k qubit"
   ]
  },
  {
   "cell_type": "code",
   "execution_count": 9,
   "metadata": {},
   "outputs": [
    {
     "name": "stdout",
     "output_type": "stream",
     "text": [
      "State after apply H gate on qubit 0:\n",
      "[[ 0.70710678]\n",
      " [-0.70710678]\n",
      " [ 0.        ]\n",
      " [ 0.        ]\n",
      " [ 0.        ]\n",
      " [ 0.        ]\n",
      " [ 0.        ]\n",
      " [ 0.        ]]\n"
     ]
    }
   ],
   "source": [
    "def aplicar_h_a_qubit(n, target_qubit, initial_state):\n",
    "    # Build the operator with X at the `target_qubit` position and I at the others\n",
    "    # Reverse the list so that the qubits match the order\n",
    "    matrices = [H if i == target_qubit else I for i in range(n-1, -1, -1)]\n",
    "\n",
    "    # Calculate kron product\n",
    "    operador_final = matrices[0]\n",
    "    for matriz in matrices[1:]:\n",
    "        operador_final = np.kron(operador_final, matriz)\n",
    "    \n",
    "    # Apply the operator to the initial state\n",
    "    final_state = operador_final @ initial_state\n",
    "    return final_state\n",
    "\n",
    "q_H = int(input(\"You have {} qubits, numbered 0 to {}. Please enter the number of the qubit you want to apply the H gate to.\".format(n,n-1)))\n",
    "vectorStateXH = aplicar_h_a_qubit(n, q_H, vectorStateX)\n",
    "print(f\"State after apply H gate on qubit {q_H}:\")\n",
    "# Column vector shape\n",
    "Probability = vectorStateXH\n",
    "Probability = Probability.reshape(-1, 1)\n",
    "print(Probability)"
   ]
  },
  {
   "cell_type": "markdown",
   "metadata": {},
   "source": [
    "5. To apply CNOT gate to k and m qubits"
   ]
  },
  {
   "cell_type": "code",
   "execution_count": 10,
   "metadata": {},
   "outputs": [
    {
     "name": "stdout",
     "output_type": "stream",
     "text": [
      "State after applying CNOT gate with control 1 and target 0:\n",
      "[[ 0.70710678]\n",
      " [-0.70710678]\n",
      " [ 0.        ]\n",
      " [ 0.        ]\n",
      " [ 0.        ]\n",
      " [ 0.        ]\n",
      " [ 0.        ]\n",
      " [ 0.        ]]\n"
     ]
    }
   ],
   "source": [
    "q_CNOTcontrol = int(input(\"You have {} qubits, numbered 0 to {}. Please enter the number of the qubit you want to be the control one to apply the CNOT gate.\".format(n,n-1)))\n",
    "q_CNOTtarget = int(input(\"You have {} qubits, numbered 0 to {}. Please enter the number of the qubit you want to be the target one to apply the CNOT gate.\".format(n,n-1)))\n",
    "\n",
    "def aplicar_CNOT(n, control_qubit, target_qubit, initial_state):\n",
    "    # Create identity matrices for the final operator\n",
    "    matrices_control_0 = [I if i != control_qubit else p_0 for i in range(n-1, -1, -1)]\n",
    "    matrices_control_1 = [I if i != control_qubit else p_1 for i in range(n-1, -1, -1)]\n",
    "    matrices_control_1 = [X if i == target_qubit else matrices_control_1[i] for i in range(n)]\n",
    "\n",
    "    # Calculate kron product to built the operator of CNOT gate\n",
    "    operador_control_0 = matrices_control_0[0]\n",
    "    operador_control_1 = matrices_control_1[0]\n",
    "    for i in range(1, n):\n",
    "        operador_control_0 = np.kron(operador_control_0, matrices_control_0[i])\n",
    "        operador_control_1 = np.kron(operador_control_1, matrices_control_1[i])\n",
    "\n",
    "    # Add operators\n",
    "    operador_CNOT = operador_control_0 + operador_control_1\n",
    "\n",
    "    # Apply the operator CNOT to the initial state\n",
    "    final_state = operador_CNOT @ initial_state\n",
    "    return final_state\n",
    "\n",
    "vectorStateCNOT = aplicar_CNOT(n, q_CNOTcontrol, q_CNOTtarget, vectorStateXH)\n",
    "print(f\"State after applying CNOT gate with control {q_CNOTcontrol} and target {q_CNOTtarget}:\")\n",
    "# Column vector shape\n",
    "Probability = vectorStateCNOT\n",
    "Probability = Probability.reshape(-1, 1)\n",
    "print(Probability)"
   ]
  },
  {
   "cell_type": "code",
   "execution_count": 12,
   "metadata": {},
   "outputs": [
    {
     "data": {
      "image/png": "[encoded data removed]",
      "text/plain": [
       "<Figure size 640x480 with 1 Axes>"
      ]
     },
     "metadata": {},
     "output_type": "display_data"
    }
   ],
   "source": [
    "import matplotlib.pyplot as plt\n",
    "import time\n",
    "# List to store the number of qubits and their runtimes\n",
    "qubit_counts = []\n",
    "runtimes = []\n",
    "\n",
    "# Test for different numbers of qubits (from 1 to n+1)\n",
    "for n in range(1, 20): \n",
    "    start_time = time.time()  \n",
    "    \n",
    "    # Initialize the qubits\n",
    "    initialize_qubits(n)\n",
    "    \n",
    "    end_time = time.time() \n",
    "    runtime = end_time - start_time  # Calculate the runtime\n",
    "    \n",
    "    qubit_counts.append(n)\n",
    "    runtimes.append(runtime)\n",
    "\n",
    "# Plotting the runtime vs number of qubits\n",
    "plt.plot(qubit_counts, runtimes, marker='o', linestyle='-', color='#008F00')\n",
    "plt.title('Runtime vs Number of Qubits')\n",
    "plt.xlabel('Number of Qubits')\n",
    "plt.ylabel('Runtime (seconds)')\n",
    "plt.grid(True)\n",
    "plt.show()\n"
   ]
  },
  {
   "cell_type": "markdown",
   "metadata": {},
   "source": [
    "<h5 style=\"color:green\"> \n",
    "- Evaluate\n",
    "</h5>\n",
    "<h7 style=\"color:black\"> \n",
    "\n",
    "This code simulates basic quantum operations in Python using NumPy for matrix manipulation and linear algebra. It is designed to initialize quantum states, apply gates like X, H, and CNOT to specific qubits, and measure the runtime of these processes depending on the number of qubits, allowing users to observe the scalability and limitations of quantum simulations.\n",
    "\n",
    "First, the code defines essential vectors and matrices for the simulation. The base states |0⟩ and |1⟩, along with identity matrices and gates like X and Hadamard, are set up to operate on individual qubits and create superpositions. The CNOT gate, which enables entanglement, is also defined for two qubits. Projection matrices are created to represent measurements in the |0⟩ and |1⟩ states.\n",
    "\n",
    "The initialize_qubits(n) function establishes a base state where all qubits start in |0⟩. It uses the Kronecker product to combine these individual qubit states into a single system state, enabling initialization of systems with any number of qubits.\n",
    "\n",
    "Next, functions are included to apply gates to specific qubits in the system. apply_x_to_qubit and apply_h_to_qubit construct an operator with the specified gate in the position of the target qubit, filling in identity matrices for the other qubits, then combining them with the Kronecker product. This allows applying the effect of the X or H gate to the entire system.\n",
    "\n",
    "The code also includes a function to apply the CNOT gate between two qubits, using projection matrices to conditionally apply the X gate to the target qubit based on the control qubit's state. \n",
    "\n",
    "All gates by its forms using kron produtc, v.g. CNOT == ∣0⟩⟨0∣⊗I + ∣1⟩⟨1∣⊗X \n",
    "\n",
    "Finally, the code performs a performance analysis, measuring the initialization time for an n-qubit system and plotting how computational load grows with system size. This helps visualize scalability limitations based on memory and computational performance.\n",
    "\n",
    "On the other hand,the code concludes with a practical estimate of the number of qubits that can be simulated on a classical computer, given memory constraints. This is useful, as larger systems require exponentially more memory to store quantum state amplitudes.\n",
    "A basic approximation for determining how many qubits my classical computer can simulate is based on the amount of memory available to store the system matrices. Since the quantum state of an n-qubit system has 2^n amplitudes, the number of qubits my computer can handle is directly related to its memory capacity.\n",
    "\n",
    "For a computer with M(for Mac) GB of RAM available to store the quantum amplitude vectors, it is possible to estimate the maximum number of qubits n that it can simulate using the following formula:\n",
    "\n",
    "2^n X (size in bytes per width) <= M X 10^9\n",
    "\n",
    "Generaly are 8 bytes per width, so each complex number use two 4 bytes, one for the real and the second for the imaginary part. \n",
    "\n",
    "v.g.2^n X 8 <= 16 X 10^9\n",
    "\n",
    "Where n <= log_2 (2 X 10^9) +/-= 30.8, wchich is the number of qubits. My computer cannot handdle 40 qubits, the kernel always stopped.\n",
    "</h7>\n"
   ]
  },
  {
   "cell_type": "markdown",
   "metadata": {},
   "source": [
    "REFERENCES\n",
    "1) Quantum Computing Stack Exchange. (s.f.). How to represent a CNOT gate operating on three-qubit states as a matrix? Quantum Computing Stack Exchange. Recuperado de https://quantumcomputing.stackexchange.com/questions/17599/how-to-represent-a-cnot-gate-operating-on-three-qubit-states-as-a-matrix\n",
    "2) Wikipedia. (s.f.). Operador de proyección. Recuperado de https://es.wikipedia.org/wiki/Operador_de_proyección\n",
    "3) Quantum Computing Stack Exchange. (s.f.). How to derive the CNOT matrix for a 3-qubit system where the control target qubit? Quantum Computing Stack Exchange. Recuperado de https://quantumcomputing.stackexchange.com/questions/4252/how-to-derive-the-cnot-matrix-for-a-3-qubit-system-where-the-control-target-qu\n",
    "4) Baaquie, B. E., & Kwek, L.-C. (s.f.). Quantum Computers: Theory and Algorithms."
   ]
  },
  {
   "cell_type": "markdown",
   "metadata": {},
   "source": [
    "##### <span style=\"color: ROYALBLUE;\"> By: Said Carbot Cruz Trejo-ESCOM-IPN-MEX\n"
   ]
  },
  {
   "cell_type": "markdown",
   "metadata": {},
   "source": [
    "Annexes:\n",
    "This is the second approach, which I couldn't get to work, for now.  \n",
    "It has preload the entanglement example for a 2 qubits system, so first X, next H and last \n",
    "<span style=\"font-size: normal;\">CNOT<sub>0,1</sub></span> "
   ]
  },
  {
   "cell_type": "code",
   "execution_count": null,
   "metadata": {},
   "outputs": [],
   "source": [
    "# Steps A,B,C are the same than the main approach.\n",
    "\n",
    "#Showing all the qubits\n",
    "circuito = initialize_qubits(2)\n",
    "print(\"Base state\")\n",
    "printQbits(circuito)\n",
    "print(\"\\n\")\n",
    "\n",
    "#D. To apply X gate on a n qubit\n",
    "qq_X = 0\n",
    "circuito[qq_X] = X @ circuito[qq_X]\n",
    "printQbits(circuito)\n",
    "print(\"You have applied X gate to the qubit number \",(qq_X))\n",
    "print(\"\\n\")\n",
    "\n",
    "#E. To apply H gate to a n qubit\n",
    "qq_H = 0\n",
    "circuito[qq_H] = H @ circuito[qq_H]\n",
    "printQbits(circuito)\n",
    "print(\"You have applied H gate to the qubit number \",(qq_H))\n",
    "print(\"\\n\")\n",
    "\n",
    "#F. To apply CONOT gate to n and m qubits\n",
    "qq_CNOTcontrol = 0\n",
    "qq_CNOTtarget = 1\n",
    "#1) kron for control and target\n",
    "kron = np.kron(circuito[qq_CNOTcontrol],circuito[qq_CNOTtarget])\n",
    "#2) Linear transformation based on the past kron\n",
    "result = CNOT @ kron\n",
    "#3)Add to a column vector \n",
    "TargetResult = np.array([result[2],result[3]])\n",
    "#4) Aadir ese vector columna en el circuito \n",
    "circuito[qq_CNOTtarget] = TargetResult  \n",
    "printQbits(circuito)\n",
    "print(\"You have applied CNOT gate to the qubit number \",(q_H))\n",
    "print(\"\\n\")\n",
    "\n",
    "#G. Calculate final probability\n",
    "#Apply the tensor product to all elements of the circuit \n",
    "Probability = circuito[0]\n",
    "for i in range(1,2):\n",
    "    Probability = np.kron(Probability, circuito[i])\n",
    "\n",
    "# Column vector shape\n",
    "Probability = Probability.reshape(-1, 1)\n",
    "\n",
    "# Print final result\n",
    "print(\"Final Probability is:\")\n",
    "print(Probability)\n"
   ]
  }
 ],
 "metadata": {
  "kernelspec": {
   "display_name": "Python 3",
   "language": "python",
   "name": "python3"
  },
  "language_info": {
   "codemirror_mode": {
    "name": "ipython",
    "version": 3
   },
   "file_extension": ".py",
   "mimetype": "text/x-python",
   "name": "python",
   "nbconvert_exporter": "python",
   "pygments_lexer": "ipython3",
   "version": "3.13.0"
  }
 },
 "nbformat": 4,
 "nbformat_minor": 2
}
